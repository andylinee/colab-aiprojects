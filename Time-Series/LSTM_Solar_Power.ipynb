{
  "nbformat": 4,
  "nbformat_minor": 0,
  "metadata": {
    "accelerator": "GPU",
    "colab": {
      "name": "LSTM_Solar_Power.ipynb",
      "provenance": [],
      "collapsed_sections": [],
      "toc_visible": true
    },
    "kernelspec": {
      "display_name": "Python 3",
      "name": "python3"
    }
  },
  "cells": [
    {
      "cell_type": "markdown",
      "metadata": {
        "id": "M8NhiJiomb6D"
      },
      "source": [
        "# Import"
      ]
    },
    {
      "cell_type": "code",
      "metadata": {
        "id": "CEC_GTjgmWjN"
      },
      "source": [
        "import pandas as pd\n",
        "import numpy as np\n",
        "import matplotlib.pyplot as plt\n",
        "from sklearn.metrics import r2_score\n",
        "from sklearn.metrics import mean_absolute_error\n",
        "import tensorflow as tf\n",
        "import keras\n",
        "%matplotlib inline"
      ],
      "execution_count": null,
      "outputs": []
    },
    {
      "cell_type": "markdown",
      "metadata": {
        "id": "j0-WvIApmdXp"
      },
      "source": [
        "# Data Loading and Data Exploratory"
      ]
    },
    {
      "cell_type": "code",
      "metadata": {
        "colab": {
          "base_uri": "https://localhost:8080/"
        },
        "id": "5xU6CpGNmkUR",
        "outputId": "9fadd741-2b9e-40a9-c83d-6865d3497d71"
      },
      "source": [
        "solarpower = pd.read_csv(\"PV_Elec_Gas3.csv\", header = None, skiprows=1 ,\n",
        "                         names = ['date','cum_Power','Elec_kW', 'Gas_mxm'], \n",
        "                         sep=',', usecols = [0,1,2,3], parse_dates={'dt' : ['date']}, \n",
        "                         infer_datetime_format=True, index_col='dt')\n",
        "print(solarpower.head(5))"
      ],
      "execution_count": null,
      "outputs": [
        {
          "output_type": "stream",
          "text": [
            "            cum_Power  Elec_kW  Gas_mxm\n",
            "dt                                     \n",
            "2011-10-26        0.1     15.1      9.0\n",
            "2011-10-27       10.2      7.4      9.2\n",
            "2011-10-28       20.2      5.8      8.0\n",
            "2011-10-29       29.6      4.9      6.6\n",
            "2011-10-30       34.2     11.7      5.3\n"
          ],
          "name": "stdout"
        }
      ]
    },
    {
      "cell_type": "code",
      "metadata": {
        "id": "PG1y5clRnHop"
      },
      "source": [
        "# make solar power stationary\n",
        "solarpower2 = solarpower.shift(periods=1, freq='D', axis=0)\n",
        "solarpower['cum_Power_shift'] = solarpower2.loc[:,'cum_Power']\n",
        "solarpower['day_Power'] = solarpower['cum_Power'].values - solarpower['cum_Power_shift']\n",
        "solarpower.iloc[0:1].day_Power.value = 0.\n",
        "A = solarpower.dropna()\n",
        "del A['cum_Power'], A['cum_Power_shift']\n",
        "solarpower = A"
      ],
      "execution_count": null,
      "outputs": []
    },
    {
      "cell_type": "code",
      "metadata": {
        "colab": {
          "base_uri": "https://localhost:8080/"
        },
        "id": "X1R4AvQjnWvC",
        "outputId": "2c317ff3-5ef2-4d10-ef29-bb0995f88752"
      },
      "source": [
        "solarpower.head(3), solarpower.tail(3)"
      ],
      "execution_count": null,
      "outputs": [
        {
          "output_type": "execute_result",
          "data": {
            "text/plain": [
              "(            Elec_kW  Gas_mxm  day_Power\n",
              " dt                                     \n",
              " 2011-10-27      7.4      9.2       10.1\n",
              " 2011-10-28      5.8      8.0       10.0\n",
              " 2011-10-29      4.9      6.6        9.4,\n",
              "             Elec_kW  Gas_mxm  day_Power\n",
              " dt                                     \n",
              " 2020-11-08     12.0     11.0        8.0\n",
              " 2020-11-09     14.0     10.0        5.0\n",
              " 2020-11-10     14.0      9.0        3.0)"
            ]
          },
          "metadata": {
            "tags": []
          },
          "execution_count": 4
        }
      ]
    },
    {
      "cell_type": "markdown",
      "metadata": {
        "id": "J3X2WgZNoDHA"
      },
      "source": [
        "# Prepare Train/Valid Datasets"
      ]
    },
    {
      "cell_type": "code",
      "metadata": {
        "colab": {
          "base_uri": "https://localhost:8080/"
        },
        "id": "rfFOkxhAnafP",
        "outputId": "ab9e80a8-d03d-4708-b25c-ade40c8ae641"
      },
      "source": [
        "X_train = solarpower[:'2019-10-28'] # use data before 2019/10/28 as training data\n",
        "X_valid = solarpower['2019-10-29':'2020-10-28'] # use 365-day data as validation data\n",
        "X_train.shape, X_valid.shape"
      ],
      "execution_count": null,
      "outputs": [
        {
          "output_type": "execute_result",
          "data": {
            "text/plain": [
              "((2924, 3), (366, 3))"
            ]
          },
          "metadata": {
            "tags": []
          },
          "execution_count": 5
        }
      ]
    },
    {
      "cell_type": "code",
      "metadata": {
        "colab": {
          "base_uri": "https://localhost:8080/"
        },
        "id": "ZNBnPahHnwRZ",
        "outputId": "1a7aa56a-0391-4601-b30a-53c6e47bc838"
      },
      "source": [
        "X_train.tail(3), X_valid.head(3)"
      ],
      "execution_count": null,
      "outputs": [
        {
          "output_type": "execute_result",
          "data": {
            "text/plain": [
              "(            Elec_kW  Gas_mxm  day_Power\n",
              " dt                                     \n",
              " 2019-10-26      8.0      7.0        5.0\n",
              " 2019-10-27      9.0      5.0        7.0\n",
              " 2019-10-28     11.0      8.0        7.0,\n",
              "             Elec_kW  Gas_mxm  day_Power\n",
              " dt                                     \n",
              " 2019-10-29     11.0      9.0        4.0\n",
              " 2019-10-30     16.0     11.0        6.0\n",
              " 2019-10-31      9.0     11.0        5.0)"
            ]
          },
          "metadata": {
            "tags": []
          },
          "execution_count": 6
        }
      ]
    },
    {
      "cell_type": "code",
      "metadata": {
        "id": "kICJGuhXn2gt"
      },
      "source": [
        "# we devide the series into multiple input and output patterns\n",
        "\n",
        "def split_by_window(series, window):\n",
        "    '''\n",
        "    the series is split in (len(series)-window)-blocks of window size, \n",
        "    y is the next value that comes after the block, \n",
        "    every block starts with the next value in the series.\n",
        "    The last block ends with the last-but-one value in the series.\n",
        "    '''\n",
        "    X = []\n",
        "    y = []\n",
        "    n_steps = len(series) - window\n",
        "    for step in range(n_steps):\n",
        "        X.append(series[step:window+step])\n",
        "        y.append(series[step + window])\n",
        "    X = np.array(X)\n",
        "    y = np.array(y)\n",
        "    return X, y"
      ],
      "execution_count": null,
      "outputs": []
    },
    {
      "cell_type": "code",
      "metadata": {
        "colab": {
          "base_uri": "https://localhost:8080/"
        },
        "id": "tLoOXmnfoHLb",
        "outputId": "186dff4d-4377-4eef-9527-cfc1b4a0d7b0"
      },
      "source": [
        "# apply my_split_window on dayly solar power with a window of 365 days (we do not make account for leap years)\n",
        "# the input series is the daily solar power\n",
        "train_power_series = X_train.day_Power.values\n",
        "window = 365\n",
        "X, y = split_by_window(train_power_series, window)\n",
        "# print a sample\n",
        "for i in range(5):\n",
        "    print(X[i][-10:], y[i])"
      ],
      "execution_count": null,
      "outputs": [
        {
          "output_type": "stream",
          "text": [
            "[7.6 9.5 4.4 3.1 4.6 3.2 5.5 9.6 8.2 8.7] 1.5\n",
            "[9.5 4.4 3.1 4.6 3.2 5.5 9.6 8.2 8.7 1.5] 2.0\n",
            "[4.4 3.1 4.6 3.2 5.5 9.6 8.2 8.7 1.5 2. ] 9.200000000000273\n",
            "[3.1 4.6 3.2 5.5 9.6 8.2 8.7 1.5 2.  9.2] 9.299999999999727\n",
            "[4.6 3.2 5.5 9.6 8.2 8.7 1.5 2.  9.2 9.3] 1.800000000000182\n"
          ],
          "name": "stdout"
        }
      ]
    },
    {
      "cell_type": "markdown",
      "metadata": {
        "id": "k1bX_T6UoNRo"
      },
      "source": [
        "# Build Model"
      ]
    },
    {
      "cell_type": "code",
      "metadata": {
        "colab": {
          "base_uri": "https://localhost:8080/"
        },
        "id": "5N5fU06noJ5S",
        "outputId": "a4aab611-45a3-4317-927d-c1d15d5fb009"
      },
      "source": [
        "# we have an input shape = window size, number of features \n",
        "# we use only 1 feature (it is univariate) and we have a window size of one year (365 days) \n",
        "# we have to reshape from [samples, timesteps] into [samples, timesteps, features]\n",
        "n_features = 1\n",
        "X = X.reshape((X.shape[0], X.shape[1], n_features))\n",
        "# define model\n",
        "def model_LSTM_cnn(window, n_features):\n",
        "    model = tf.keras.Sequential()\n",
        "    model.add(tf.keras.layers.LSTM(32, return_sequences=True, \n",
        "                                   input_shape=(window, n_features)))\n",
        "    model.add(tf.keras.layers.Conv1D(filters=32, kernel_size=2, activation='relu', \n",
        "                                     input_shape=(window, n_features)))\n",
        "    model.add(tf.keras.layers.MaxPooling1D(pool_size=2))\n",
        "    model.add(tf.keras.layers.Flatten())\n",
        "    model.add(tf.keras.layers.BatchNormalization())\n",
        "    model.add(tf.keras.layers.Dense(50, activation='relu'))\n",
        "    model.add(tf.keras.layers.Dropout(0.3))\n",
        "    model.add(tf.keras.layers.Dense(1))\n",
        "    return model\n",
        "\n",
        "model = model_LSTM_cnn(window, n_features)\n",
        "model.summary()"
      ],
      "execution_count": null,
      "outputs": [
        {
          "output_type": "stream",
          "text": [
            "Model: \"sequential\"\n",
            "_________________________________________________________________\n",
            "Layer (type)                 Output Shape              Param #   \n",
            "=================================================================\n",
            "lstm (LSTM)                  (None, 365, 32)           4352      \n",
            "_________________________________________________________________\n",
            "conv1d (Conv1D)              (None, 364, 32)           2080      \n",
            "_________________________________________________________________\n",
            "max_pooling1d (MaxPooling1D) (None, 182, 32)           0         \n",
            "_________________________________________________________________\n",
            "flatten (Flatten)            (None, 5824)              0         \n",
            "_________________________________________________________________\n",
            "batch_normalization (BatchNo (None, 5824)              23296     \n",
            "_________________________________________________________________\n",
            "dense (Dense)                (None, 50)                291250    \n",
            "_________________________________________________________________\n",
            "dropout (Dropout)            (None, 50)                0         \n",
            "_________________________________________________________________\n",
            "dense_1 (Dense)              (None, 1)                 51        \n",
            "=================================================================\n",
            "Total params: 321,029\n",
            "Trainable params: 309,381\n",
            "Non-trainable params: 11,648\n",
            "_________________________________________________________________\n"
          ],
          "name": "stdout"
        }
      ]
    },
    {
      "cell_type": "markdown",
      "metadata": {
        "id": "kCsBktJ7rFQ6"
      },
      "source": [
        "# Train Model"
      ]
    },
    {
      "cell_type": "code",
      "metadata": {
        "id": "ee8Hz41rrHSP"
      },
      "source": [
        "epochs = 500\n",
        "range1 = 2\n",
        "y_hat_dict = {}\n",
        "for steps in range(range1):\n",
        "    # compile the model:\n",
        "    model.compile(optimizer='adam', loss='mae')\n",
        "    # fit model\n",
        "    history = model.fit(X, y, epochs=epochs, verbose=0)\n",
        "    # predicting next year\n",
        "    x_input = np.array(X_train.day_Power[-365:]) #  next value based on data of last year\n",
        "    x_input = x_input.reshape((1, window, n_features)) # the model expects three dimensions as input (samples, window, features)\n",
        "    y_hat = model.predict(x_input, verbose=0)\n",
        "    for i in range(365):\n",
        "        new_x = y_hat.reshape((1,1,1))\n",
        "        x_input = np.concatenate((x_input[:, -364:], new_x), axis=1)\n",
        "        y_hat = model.predict(x_input, verbose=0)\n",
        "    name = '108B_y_hat_15000e' + str(steps)\n",
        "    y_predicted = x_input.reshape((x_input.shape[1]))\n",
        "    y_hat_dict[name]=y_predicted\n",
        "    file = name + 'range' + str(range1) + '.npy'\n",
        "    np.save(file, y_predicted)\n",
        "    print('step', steps, 'done')"
      ],
      "execution_count": null,
      "outputs": []
    },
    {
      "cell_type": "markdown",
      "metadata": {
        "id": "_l2OEDoroiHI"
      },
      "source": [
        "# Prediction"
      ]
    },
    {
      "cell_type": "code",
      "metadata": {
        "id": "rvYE9HfMoSPi"
      },
      "source": [
        "x_input = np.array(X_train.day_Power[-365:]) #  next value based on data of last year\n",
        "x_input = x_input.reshape((1, window, n_features)) # the model expects three dimensions as input (samples, window, features)\n",
        "y_hat = model.predict(x_input, verbose=0)\n",
        "for i in range(365):\n",
        "    new_x = y_hat.reshape((1,1,1))\n",
        "    x_input = np.concatenate((x_input[:, -364:], new_x), axis=1)\n",
        "    y_hat = model.predict(x_input, verbose=0)"
      ],
      "execution_count": null,
      "outputs": []
    },
    {
      "cell_type": "code",
      "metadata": {
        "colab": {
          "base_uri": "https://localhost:8080/",
          "height": 265
        },
        "id": "upk6VoVVomM2",
        "outputId": "a1ec4cb9-fc28-46ab-fc64-ace6a0e8816b"
      },
      "source": [
        "y_predicted = x_input.reshape((x_input.shape[1]))\n",
        "plt.plot(y_predicted, label='predicted_power')\n",
        "\n",
        "y_true = X_valid.day_Power.values\n",
        "plt.plot(y_true, label='true_power')\n",
        "plt.legend()\n",
        "plt.show()"
      ],
      "execution_count": null,
      "outputs": [
        {
          "output_type": "display_data",
          "data": {
            "image/png": "[encoded data removed]",
            "text/plain": [
              "<Figure size 432x288 with 1 Axes>"
            ]
          },
          "metadata": {
            "tags": []
          }
        }
      ]
    },
    {
      "cell_type": "code",
      "metadata": {
        "colab": {
          "base_uri": "https://localhost:8080/"
        },
        "id": "ekII-GYDooh8",
        "outputId": "fc93fd35-4d88-425e-d6f6-24b87b7adb9b"
      },
      "source": [
        "first_r2_score = r2_score(y_true[:-1], y_predicted) # Best possible score is 1.0 \n",
        "first_mae = mean_absolute_error(y_true[:-1], y_predicted)\n",
        "print('r2_score %.2f' % first_r2_score)\n",
        "print('mae %.2f' % first_mae)"
      ],
      "execution_count": null,
      "outputs": [
        {
          "output_type": "stream",
          "text": [
            "r2_score 0.56\n",
            "mae 4.53\n"
          ],
          "name": "stdout"
        }
      ]
    },
    {
      "cell_type": "markdown",
      "metadata": {
        "id": "8T-27BHGosbT"
      },
      "source": [
        "# Cumulation"
      ]
    },
    {
      "cell_type": "code",
      "metadata": {
        "id": "pG926_2xouDC"
      },
      "source": [
        "def cumulate(series, start=0):\n",
        "    '''\n",
        "    start is the starting cumulative power, the series is the daily solar power\n",
        "    a list with daily cumulative power is the result\n",
        "    '''\n",
        "    cum = [start]\n",
        "    for i in range(len(series)):\n",
        "        sum_plus = cum[i] + series[i]\n",
        "        cum.append(sum_plus)\n",
        "    return cum"
      ],
      "execution_count": null,
      "outputs": []
    },
    {
      "cell_type": "code",
      "metadata": {
        "colab": {
          "base_uri": "https://localhost:8080/",
          "height": 265
        },
        "id": "WDcwgJhAoxT3",
        "outputId": "726a42f8-4704-422f-a906-5145295b3a47"
      },
      "source": [
        "y_true_cumulative = cumulate(y_true)\n",
        "y_predicted_cumulative = cumulate(y_predicted)\n",
        "\n",
        "plt.plot(y_predicted_cumulative, label='predicted_power')\n",
        "plt.plot(y_true_cumulative, label='true_power')\n",
        "plt.legend()\n",
        "plt.show()"
      ],
      "execution_count": null,
      "outputs": [
        {
          "output_type": "display_data",
          "data": {
            "image/png": "[encoded data removed]",
            "text/plain": [
              "<Figure size 432x288 with 1 Axes>"
            ]
          },
          "metadata": {
            "tags": []
          }
        }
      ]
    },
    {
      "cell_type": "code",
      "metadata": {
        "colab": {
          "base_uri": "https://localhost:8080/"
        },
        "id": "nrwBgrO9o1m8",
        "outputId": "b5cc566b-bf7e-4950-feba-f71d1e33e9ee"
      },
      "source": [
        "true_cumulative_power_after_one_year = int(y_true_cumulative[-1])\n",
        "predicted_cumulative_power_after_one_year = int(y_predicted_cumulative[-1])\n",
        "print('true cumulative power after one year:', true_cumulative_power_after_one_year)\n",
        "print('predicted cumulative power after one year:', predicted_cumulative_power_after_one_year)\n",
        "\n",
        "acc_one_year = 1- (true_cumulative_power_after_one_year - predicted_cumulative_power_after_one_year)/true_cumulative_power_after_one_year\n",
        "acc_one_year = acc_one_year * 100\n",
        "print(len(y_true_cumulative), len(y_predicted_cumulative))\n",
        "print('accuracy after one year: %.2f' %  acc_one_year,'%')\n",
        "print('r2 score %.2f ' % r2_score(y_true_cumulative[:-1] , y_predicted_cumulative))\n",
        "print('mae  %.2f' % mean_absolute_error(y_true_cumulative[:-1], y_predicted_cumulative))"
      ],
      "execution_count": null,
      "outputs": [
        {
          "output_type": "stream",
          "text": [
            "true cumulative power after one year: 4260\n",
            "predicted cumulative power after one year: 3688\n",
            "367 366\n",
            "accuracy after one year: 86.57 %\n",
            "r2 score 0.95 \n",
            "mae  250.04\n"
          ],
          "name": "stdout"
        }
      ]
    },
    {
      "cell_type": "code",
      "metadata": {
        "id": "2pPkaXbLyqdE"
      },
      "source": [
        ""
      ],
      "execution_count": null,
      "outputs": []
    }
  ]
}