{
  "nbformat": 4,
  "nbformat_minor": 0,
  "metadata": {
    "colab": {
      "name": "predictive_maintenance.ipynb",
      "provenance": []
    },
    "kernelspec": {
      "name": "python3",
      "display_name": "Python 3"
    }
  },
  "cells": [
    {
      "cell_type": "code",
      "metadata": {
        "id": "1p4Ol1nE_PKa"
      },
      "source": [
        "from google.colab import files\n",
        "import pandas as pd\n",
        "import matplotlib.pyplot as plt\n",
        "import numpy as np\n",
        "import itertools\n",
        "import random\n",
        "import os\n",
        "\n",
        "from sklearn.preprocessing import StandardScaler\n",
        "from sklearn.metrics import accuracy_score, confusion_matrix, classification_report\n",
        "from sklearn.model_selection import train_test_split\n",
        "from sklearn.manifold import TSNE\n",
        "\n",
        "import tensorflow as tf\n",
        "from tensorflow.keras.models import *\n",
        "from tensorflow.keras.layers import *\n",
        "from tensorflow.keras.utils import *"
      ],
      "execution_count": null,
      "outputs": []
    },
    {
      "cell_type": "code",
      "metadata": {
        "id": "Lq683F1B_WCs"
      },
      "source": [
        "def plot_confusion_matrix(cm, classes, title='Confusion matrix', cmap=plt.cm.Blues):\n",
        "\n",
        "    cm = cm.astype('float') / cm.sum(axis=1)[:, np.newaxis]\n",
        "\n",
        "    plt.imshow(cm, interpolation='nearest', cmap=cmap)\n",
        "    plt.title(title, fontsize=25)\n",
        "    #plt.colorbar()\n",
        "    tick_marks = np.arange(len(classes))\n",
        "    plt.xticks(tick_marks, classes, rotation=90, fontsize=15)\n",
        "    plt.yticks(tick_marks, classes, fontsize=15)\n",
        "\n",
        "    fmt = '.2f'\n",
        "    thresh = cm.max() / 2.\n",
        "    for i, j in itertools.product(range(cm.shape[0]), range(cm.shape[1])):\n",
        "        plt.text(j, i, format(cm[i, j], fmt),\n",
        "                 horizontalalignment=\"center\",\n",
        "                 color=\"white\" if cm[i, j] > thresh else \"black\", fontsize = 14)\n",
        "\n",
        "    plt.ylabel('True label', fontsize=20)\n",
        "    plt.xlabel('Predicted label', fontsize=20)"
      ],
      "execution_count": null,
      "outputs": []
    },
    {
      "cell_type": "code",
      "metadata": {
        "colab": {
          "resources": {
            "http://localhost:8080/nbextensions/google.colab/files.js": {
              "data": "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",
              "ok": true,
              "headers": [
                [
                  "content-type",
                  "application/javascript"
                ]
              ],
              "status": 200,
              "status_text": ""
            }
          },
          "base_uri": "https://localhost:8080/",
          "height": 200
        },
        "id": "VcZVHd9WAJ6C",
        "outputId": "40fb80ba-4bdf-43dd-9453-13a15309c9f1"
      },
      "source": [
        "uploaded = files.upload()"
      ],
      "execution_count": null,
      "outputs": [
        {
          "output_type": "display_data",
          "data": {
            "text/html": [
              "\n",
              "     <input type=\"file\" id=\"files-4a4317bf-068d-4a15-aa3c-10446954f69b\" name=\"files[]\" multiple disabled\n",
              "        style=\"border:none\" />\n",
              "     <output id=\"result-4a4317bf-068d-4a15-aa3c-10446954f69b\">\n",
              "      Upload widget is only available when the cell has been executed in the\n",
              "      current browser session. Please rerun this cell to enable.\n",
              "      </output>\n",
              "      <script src=\"/nbextensions/google.colab/files.js\"></script> "
            ],
            "text/plain": [
              "<IPython.core.display.HTML object>"
            ]
          },
          "metadata": {
            "tags": []
          }
        },
        {
          "output_type": "stream",
          "text": [
            "Saving profile.txt to profile.txt\n",
            "Saving TS1.txt to TS1.txt\n",
            "Saving TS2.txt to TS2.txt\n",
            "Saving TS3.txt to TS3.txt\n",
            "Saving TS4.txt to TS4.txt\n"
          ],
          "name": "stdout"
        }
      ]
    },
    {
      "cell_type": "code",
      "metadata": {
        "colab": {
          "base_uri": "https://localhost:8080/",
          "height": 227
        },
        "id": "uPIQ9iYK_ckU",
        "outputId": "5d796f57-8199-44e9-cb28-3819a352617c"
      },
      "source": [
        "### LOAD DATA ###\n",
        "\n",
        "label = pd.read_csv('profile.txt', sep='\\t', header=None)\n",
        "label.columns = ['Cooler','Valve','Pump','Accumulator','Flag']\n",
        "\n",
        "data = ['TS1.txt','TS2.txt','TS3.txt','TS4.txt']\n",
        "df = pd.DataFrame()\n",
        "\n",
        "for txt in data:\n",
        "    read_df = pd.read_csv(txt, sep='\\t', header=None)\n",
        "    df = df.append(read_df)    \n",
        "\n",
        "print(df.shape)\n",
        "df.head()"
      ],
      "execution_count": null,
      "outputs": [
        {
          "output_type": "stream",
          "text": [
            "(8820, 60)\n"
          ],
          "name": "stdout"
        },
        {
          "output_type": "execute_result",
          "data": {
            "text/html": [
              "<div>\n",
              "<style scoped>\n",
              "    .dataframe tbody tr th:only-of-type {\n",
              "        vertical-align: middle;\n",
              "    }\n",
              "\n",
              "    .dataframe tbody tr th {\n",
              "        vertical-align: top;\n",
              "    }\n",
              "\n",
              "    .dataframe thead th {\n",
              "        text-align: right;\n",
              "    }\n",
              "</style>\n",
              "<table border=\"1\" class=\"dataframe\">\n",
              "  <thead>\n",
              "    <tr style=\"text-align: right;\">\n",
              "      <th></th>\n",
              "      <th>0</th>\n",
              "      <th>1</th>\n",
              "      <th>2</th>\n",
              "      <th>3</th>\n",
              "      <th>4</th>\n",
              "      <th>5</th>\n",
              "      <th>6</th>\n",
              "      <th>7</th>\n",
              "      <th>8</th>\n",
              "      <th>9</th>\n",
              "      <th>10</th>\n",
              "      <th>11</th>\n",
              "      <th>12</th>\n",
              "      <th>13</th>\n",
              "      <th>14</th>\n",
              "      <th>15</th>\n",
              "      <th>16</th>\n",
              "      <th>17</th>\n",
              "      <th>18</th>\n",
              "      <th>19</th>\n",
              "      <th>20</th>\n",
              "      <th>21</th>\n",
              "      <th>22</th>\n",
              "      <th>23</th>\n",
              "      <th>24</th>\n",
              "      <th>25</th>\n",
              "      <th>26</th>\n",
              "      <th>27</th>\n",
              "      <th>28</th>\n",
              "      <th>29</th>\n",
              "      <th>30</th>\n",
              "      <th>31</th>\n",
              "      <th>32</th>\n",
              "      <th>33</th>\n",
              "      <th>34</th>\n",
              "      <th>35</th>\n",
              "      <th>36</th>\n",
              "      <th>37</th>\n",
              "      <th>38</th>\n",
              "      <th>39</th>\n",
              "      <th>40</th>\n",
              "      <th>41</th>\n",
              "      <th>42</th>\n",
              "      <th>43</th>\n",
              "      <th>44</th>\n",
              "      <th>45</th>\n",
              "      <th>46</th>\n",
              "      <th>47</th>\n",
              "      <th>48</th>\n",
              "      <th>49</th>\n",
              "      <th>50</th>\n",
              "      <th>51</th>\n",
              "      <th>52</th>\n",
              "      <th>53</th>\n",
              "      <th>54</th>\n",
              "      <th>55</th>\n",
              "      <th>56</th>\n",
              "      <th>57</th>\n",
              "      <th>58</th>\n",
              "      <th>59</th>\n",
              "    </tr>\n",
              "  </thead>\n",
              "  <tbody>\n",
              "    <tr>\n",
              "      <th>0</th>\n",
              "      <td>35.570</td>\n",
              "      <td>35.492</td>\n",
              "      <td>35.469</td>\n",
              "      <td>35.422</td>\n",
              "      <td>35.414</td>\n",
              "      <td>35.320</td>\n",
              "      <td>35.227</td>\n",
              "      <td>35.242</td>\n",
              "      <td>35.160</td>\n",
              "      <td>35.176</td>\n",
              "      <td>35.172</td>\n",
              "      <td>35.168</td>\n",
              "      <td>35.156</td>\n",
              "      <td>35.187</td>\n",
              "      <td>35.176</td>\n",
              "      <td>35.250</td>\n",
              "      <td>35.234</td>\n",
              "      <td>35.316</td>\n",
              "      <td>35.316</td>\n",
              "      <td>35.402</td>\n",
              "      <td>35.402</td>\n",
              "      <td>35.398</td>\n",
              "      <td>35.441</td>\n",
              "      <td>35.414</td>\n",
              "      <td>35.434</td>\n",
              "      <td>35.480</td>\n",
              "      <td>35.500</td>\n",
              "      <td>35.488</td>\n",
              "      <td>35.559</td>\n",
              "      <td>35.555</td>\n",
              "      <td>35.574</td>\n",
              "      <td>35.652</td>\n",
              "      <td>35.668</td>\n",
              "      <td>35.664</td>\n",
              "      <td>35.660</td>\n",
              "      <td>35.734</td>\n",
              "      <td>35.824</td>\n",
              "      <td>35.824</td>\n",
              "      <td>35.820</td>\n",
              "      <td>35.836</td>\n",
              "      <td>35.836</td>\n",
              "      <td>35.828</td>\n",
              "      <td>35.840</td>\n",
              "      <td>35.859</td>\n",
              "      <td>35.918</td>\n",
              "      <td>35.914</td>\n",
              "      <td>35.895</td>\n",
              "      <td>35.992</td>\n",
              "      <td>35.980</td>\n",
              "      <td>35.980</td>\n",
              "      <td>36.008</td>\n",
              "      <td>35.984</td>\n",
              "      <td>35.996</td>\n",
              "      <td>36.039</td>\n",
              "      <td>36.008</td>\n",
              "      <td>36.008</td>\n",
              "      <td>36.094</td>\n",
              "      <td>36.102</td>\n",
              "      <td>36.090</td>\n",
              "      <td>36.152</td>\n",
              "    </tr>\n",
              "    <tr>\n",
              "      <th>1</th>\n",
              "      <td>36.156</td>\n",
              "      <td>36.094</td>\n",
              "      <td>35.992</td>\n",
              "      <td>36.008</td>\n",
              "      <td>35.992</td>\n",
              "      <td>35.902</td>\n",
              "      <td>35.824</td>\n",
              "      <td>35.820</td>\n",
              "      <td>35.727</td>\n",
              "      <td>35.727</td>\n",
              "      <td>35.648</td>\n",
              "      <td>35.734</td>\n",
              "      <td>35.828</td>\n",
              "      <td>35.848</td>\n",
              "      <td>35.902</td>\n",
              "      <td>36.035</td>\n",
              "      <td>36.078</td>\n",
              "      <td>36.199</td>\n",
              "      <td>36.246</td>\n",
              "      <td>36.301</td>\n",
              "      <td>36.398</td>\n",
              "      <td>36.473</td>\n",
              "      <td>36.500</td>\n",
              "      <td>36.555</td>\n",
              "      <td>36.652</td>\n",
              "      <td>36.645</td>\n",
              "      <td>36.664</td>\n",
              "      <td>36.652</td>\n",
              "      <td>36.738</td>\n",
              "      <td>36.715</td>\n",
              "      <td>36.797</td>\n",
              "      <td>36.797</td>\n",
              "      <td>36.891</td>\n",
              "      <td>36.902</td>\n",
              "      <td>36.898</td>\n",
              "      <td>36.984</td>\n",
              "      <td>36.984</td>\n",
              "      <td>37.062</td>\n",
              "      <td>37.051</td>\n",
              "      <td>37.145</td>\n",
              "      <td>37.141</td>\n",
              "      <td>37.172</td>\n",
              "      <td>37.164</td>\n",
              "      <td>37.164</td>\n",
              "      <td>37.152</td>\n",
              "      <td>37.238</td>\n",
              "      <td>37.234</td>\n",
              "      <td>37.305</td>\n",
              "      <td>37.305</td>\n",
              "      <td>37.324</td>\n",
              "      <td>37.328</td>\n",
              "      <td>37.324</td>\n",
              "      <td>37.340</td>\n",
              "      <td>37.332</td>\n",
              "      <td>37.316</td>\n",
              "      <td>37.410</td>\n",
              "      <td>37.418</td>\n",
              "      <td>37.422</td>\n",
              "      <td>37.488</td>\n",
              "      <td>37.477</td>\n",
              "    </tr>\n",
              "    <tr>\n",
              "      <th>2</th>\n",
              "      <td>37.488</td>\n",
              "      <td>37.391</td>\n",
              "      <td>37.340</td>\n",
              "      <td>37.312</td>\n",
              "      <td>37.223</td>\n",
              "      <td>37.145</td>\n",
              "      <td>37.059</td>\n",
              "      <td>36.973</td>\n",
              "      <td>36.898</td>\n",
              "      <td>36.879</td>\n",
              "      <td>36.887</td>\n",
              "      <td>36.887</td>\n",
              "      <td>36.980</td>\n",
              "      <td>37.059</td>\n",
              "      <td>37.137</td>\n",
              "      <td>37.230</td>\n",
              "      <td>37.316</td>\n",
              "      <td>37.398</td>\n",
              "      <td>37.477</td>\n",
              "      <td>37.582</td>\n",
              "      <td>37.578</td>\n",
              "      <td>37.723</td>\n",
              "      <td>37.730</td>\n",
              "      <td>37.730</td>\n",
              "      <td>37.797</td>\n",
              "      <td>37.898</td>\n",
              "      <td>37.980</td>\n",
              "      <td>37.977</td>\n",
              "      <td>37.984</td>\n",
              "      <td>38.016</td>\n",
              "      <td>38.031</td>\n",
              "      <td>38.047</td>\n",
              "      <td>38.117</td>\n",
              "      <td>38.125</td>\n",
              "      <td>38.195</td>\n",
              "      <td>38.219</td>\n",
              "      <td>38.207</td>\n",
              "      <td>38.289</td>\n",
              "      <td>38.301</td>\n",
              "      <td>38.281</td>\n",
              "      <td>38.367</td>\n",
              "      <td>38.379</td>\n",
              "      <td>38.379</td>\n",
              "      <td>38.379</td>\n",
              "      <td>38.379</td>\n",
              "      <td>38.375</td>\n",
              "      <td>38.367</td>\n",
              "      <td>38.391</td>\n",
              "      <td>38.391</td>\n",
              "      <td>38.469</td>\n",
              "      <td>38.457</td>\n",
              "      <td>38.461</td>\n",
              "      <td>38.457</td>\n",
              "      <td>38.469</td>\n",
              "      <td>38.469</td>\n",
              "      <td>38.555</td>\n",
              "      <td>38.527</td>\n",
              "      <td>38.543</td>\n",
              "      <td>38.527</td>\n",
              "      <td>38.621</td>\n",
              "    </tr>\n",
              "    <tr>\n",
              "      <th>3</th>\n",
              "      <td>38.633</td>\n",
              "      <td>38.535</td>\n",
              "      <td>38.469</td>\n",
              "      <td>38.379</td>\n",
              "      <td>38.297</td>\n",
              "      <td>38.223</td>\n",
              "      <td>38.125</td>\n",
              "      <td>38.062</td>\n",
              "      <td>37.977</td>\n",
              "      <td>37.969</td>\n",
              "      <td>37.887</td>\n",
              "      <td>37.902</td>\n",
              "      <td>37.965</td>\n",
              "      <td>38.047</td>\n",
              "      <td>38.180</td>\n",
              "      <td>38.203</td>\n",
              "      <td>38.367</td>\n",
              "      <td>38.406</td>\n",
              "      <td>38.457</td>\n",
              "      <td>38.629</td>\n",
              "      <td>38.633</td>\n",
              "      <td>38.699</td>\n",
              "      <td>38.801</td>\n",
              "      <td>38.801</td>\n",
              "      <td>38.828</td>\n",
              "      <td>38.902</td>\n",
              "      <td>38.895</td>\n",
              "      <td>38.969</td>\n",
              "      <td>38.988</td>\n",
              "      <td>39.055</td>\n",
              "      <td>39.055</td>\n",
              "      <td>39.055</td>\n",
              "      <td>39.055</td>\n",
              "      <td>39.121</td>\n",
              "      <td>39.215</td>\n",
              "      <td>39.215</td>\n",
              "      <td>39.219</td>\n",
              "      <td>39.227</td>\n",
              "      <td>39.273</td>\n",
              "      <td>39.285</td>\n",
              "      <td>39.293</td>\n",
              "      <td>39.293</td>\n",
              "      <td>39.273</td>\n",
              "      <td>39.285</td>\n",
              "      <td>39.375</td>\n",
              "      <td>39.359</td>\n",
              "      <td>39.375</td>\n",
              "      <td>39.379</td>\n",
              "      <td>39.367</td>\n",
              "      <td>39.363</td>\n",
              "      <td>39.441</td>\n",
              "      <td>39.363</td>\n",
              "      <td>39.367</td>\n",
              "      <td>39.457</td>\n",
              "      <td>39.461</td>\n",
              "      <td>39.461</td>\n",
              "      <td>39.473</td>\n",
              "      <td>39.441</td>\n",
              "      <td>39.453</td>\n",
              "      <td>39.461</td>\n",
              "    </tr>\n",
              "    <tr>\n",
              "      <th>4</th>\n",
              "      <td>39.461</td>\n",
              "      <td>39.461</td>\n",
              "      <td>39.375</td>\n",
              "      <td>39.281</td>\n",
              "      <td>39.203</td>\n",
              "      <td>39.113</td>\n",
              "      <td>39.043</td>\n",
              "      <td>38.969</td>\n",
              "      <td>38.875</td>\n",
              "      <td>38.883</td>\n",
              "      <td>38.809</td>\n",
              "      <td>38.789</td>\n",
              "      <td>38.883</td>\n",
              "      <td>38.965</td>\n",
              "      <td>39.047</td>\n",
              "      <td>39.121</td>\n",
              "      <td>39.234</td>\n",
              "      <td>39.281</td>\n",
              "      <td>39.453</td>\n",
              "      <td>39.461</td>\n",
              "      <td>39.488</td>\n",
              "      <td>39.633</td>\n",
              "      <td>39.723</td>\n",
              "      <td>39.719</td>\n",
              "      <td>39.711</td>\n",
              "      <td>39.801</td>\n",
              "      <td>39.879</td>\n",
              "      <td>39.867</td>\n",
              "      <td>39.883</td>\n",
              "      <td>39.973</td>\n",
              "      <td>39.973</td>\n",
              "      <td>39.961</td>\n",
              "      <td>40.047</td>\n",
              "      <td>40.133</td>\n",
              "      <td>40.047</td>\n",
              "      <td>40.133</td>\n",
              "      <td>40.145</td>\n",
              "      <td>40.230</td>\n",
              "      <td>40.219</td>\n",
              "      <td>40.219</td>\n",
              "      <td>40.305</td>\n",
              "      <td>40.297</td>\n",
              "      <td>40.285</td>\n",
              "      <td>40.309</td>\n",
              "      <td>40.281</td>\n",
              "      <td>40.309</td>\n",
              "      <td>40.391</td>\n",
              "      <td>40.348</td>\n",
              "      <td>40.320</td>\n",
              "      <td>40.336</td>\n",
              "      <td>40.324</td>\n",
              "      <td>40.320</td>\n",
              "      <td>40.312</td>\n",
              "      <td>40.340</td>\n",
              "      <td>40.320</td>\n",
              "      <td>40.387</td>\n",
              "      <td>40.391</td>\n",
              "      <td>40.391</td>\n",
              "      <td>40.387</td>\n",
              "      <td>40.391</td>\n",
              "    </tr>\n",
              "  </tbody>\n",
              "</table>\n",
              "</div>"
            ],
            "text/plain": [
              "       0       1       2       3   ...      56      57      58      59\n",
              "0  35.570  35.492  35.469  35.422  ...  36.094  36.102  36.090  36.152\n",
              "1  36.156  36.094  35.992  36.008  ...  37.418  37.422  37.488  37.477\n",
              "2  37.488  37.391  37.340  37.312  ...  38.527  38.543  38.527  38.621\n",
              "3  38.633  38.535  38.469  38.379  ...  39.473  39.441  39.453  39.461\n",
              "4  39.461  39.461  39.375  39.281  ...  40.391  40.391  40.387  40.391\n",
              "\n",
              "[5 rows x 60 columns]"
            ]
          },
          "metadata": {
            "tags": []
          },
          "execution_count": 6
        }
      ]
    },
    {
      "cell_type": "code",
      "metadata": {
        "colab": {
          "base_uri": "https://localhost:8080/"
        },
        "id": "_6Q-cWLeAizs",
        "outputId": "362db22f-2610-4369-8599-937918feff52"
      },
      "source": [
        "### RESHAPE DATA AMONG SENSORS ###\n",
        "\n",
        "df = df.sort_index().values.reshape(-1,len(data),len(df.columns)).transpose(0,2,1)\n",
        "df.shape"
      ],
      "execution_count": null,
      "outputs": [
        {
          "output_type": "execute_result",
          "data": {
            "text/plain": [
              "(2205, 60, 4)"
            ]
          },
          "metadata": {
            "tags": []
          },
          "execution_count": 7
        }
      ]
    },
    {
      "cell_type": "code",
      "metadata": {
        "colab": {
          "base_uri": "https://localhost:8080/",
          "height": 350
        },
        "id": "_N0wLmb-An_d",
        "outputId": "d41063f8-f048-4a84-bda1-9ebc33302b53"
      },
      "source": [
        "### PLOT ORIGINAL TEMPERATURE DATA ###\n",
        "\n",
        "plt.figure(figsize=(8,5))\n",
        "plt.plot(df[0])\n",
        "plt.title('Original Temperature Data')\n",
        "plt.ylabel('Temperature'); plt.xlabel('Time')\n",
        "np.set_printoptions(False)"
      ],
      "execution_count": null,
      "outputs": [
        {
          "output_type": "display_data",
          "data": {
            "image/png": "[encoded data removed]",
            "text/plain": [
              "<Figure size 576x360 with 1 Axes>"
            ]
          },
          "metadata": {
            "tags": [],
            "needs_background": "light"
          }
        }
      ]
    },
    {
      "cell_type": "code",
      "metadata": {
        "colab": {
          "base_uri": "https://localhost:8080/"
        },
        "id": "xLdJLeREAqTd",
        "outputId": "ac4c18dd-a4ef-453e-989d-40e53b6b3106"
      },
      "source": [
        "\n",
        "### LABEL DISTRIBUTION ###\n",
        "\n",
        "label = label.Cooler\n",
        "label.value_counts()"
      ],
      "execution_count": null,
      "outputs": [
        {
          "output_type": "execute_result",
          "data": {
            "text/plain": [
              "100    741\n",
              "3      732\n",
              "20     732\n",
              "Name: Cooler, dtype: int64"
            ]
          },
          "metadata": {
            "tags": []
          },
          "execution_count": 9
        }
      ]
    },
    {
      "cell_type": "code",
      "metadata": {
        "colab": {
          "base_uri": "https://localhost:8080/"
        },
        "id": "F6ZXMmmRAtXP",
        "outputId": "173ad386-2126-41c3-d23f-decc62942b4e"
      },
      "source": [
        "### MAPPING LABEL ###\n",
        "\n",
        "diz_label, diz_reverse_label = {}, {}\n",
        "for i,lab in enumerate(label.unique()):\n",
        "    diz_label[lab] = i\n",
        "    diz_reverse_label[i] = lab\n",
        "\n",
        "print(diz_label)\n",
        "print(diz_reverse_label)\n",
        "label = label.map(diz_label)\n",
        "y = to_categorical(label)"
      ],
      "execution_count": null,
      "outputs": [
        {
          "output_type": "stream",
          "text": [
            "{3: 0, 20: 1, 100: 2}\n",
            "{0: 3, 1: 20, 2: 100}\n"
          ],
          "name": "stdout"
        }
      ]
    },
    {
      "cell_type": "code",
      "metadata": {
        "id": "jHW5xFmNAv99"
      },
      "source": [
        "### TRAIN TEST SPLIT ###\n",
        "\n",
        "X_train, X_test, y_train, y_test = train_test_split(df, y, random_state = 42, test_size=0.2)"
      ],
      "execution_count": null,
      "outputs": []
    },
    {
      "cell_type": "code",
      "metadata": {
        "id": "dDVlJPRvAzSl"
      },
      "source": [
        "### SCALE DATA ###\n",
        "\n",
        "scaler = StandardScaler()\n",
        "\n",
        "X_train = scaler.fit_transform(X_train.reshape(-1, X_train.shape[-1])).reshape(X_train.shape)\n",
        "X_test = scaler.transform(X_test.reshape(-1, X_test.shape[-1])).reshape(X_test.shape)"
      ],
      "execution_count": null,
      "outputs": []
    },
    {
      "cell_type": "markdown",
      "metadata": {
        "id": "_Jq9bVBXA7w4"
      },
      "source": [
        "# Model"
      ]
    },
    {
      "cell_type": "code",
      "metadata": {
        "colab": {
          "base_uri": "https://localhost:8080/"
        },
        "id": "xP_irAyfA4Da",
        "outputId": "439c510f-4268-4a34-bcb3-d27da80b5d57"
      },
      "source": [
        "num_sensors = 4\n",
        "TIME_PERIODS = 60\n",
        "BATCH_SIZE = 16\n",
        "EPOCHS = 10\n",
        "\n",
        "model_m = Sequential()\n",
        "model_m.add(Conv1D(100, 6, activation='relu', input_shape=(TIME_PERIODS, num_sensors)))\n",
        "model_m.add(Conv1D(100, 6, activation='relu'))\n",
        "model_m.add(MaxPooling1D(3))\n",
        "model_m.add(Conv1D(160, 6, activation='relu'))\n",
        "model_m.add(Conv1D(160, 6, activation='relu'))\n",
        "model_m.add(GlobalAveragePooling1D(name='G_A_P_1D'))\n",
        "model_m.add(Dropout(0.5))\n",
        "model_m.add(Dense(3, activation='softmax'))\n",
        "\n",
        "model_m.compile(loss='categorical_crossentropy', optimizer='adam', metrics=['accuracy'])\n",
        "history = model_m.fit(X_train, y_train, batch_size=BATCH_SIZE, epochs=EPOCHS, validation_split=0.2, verbose=2)"
      ],
      "execution_count": null,
      "outputs": [
        {
          "output_type": "stream",
          "text": [
            "Epoch 1/10\n",
            "89/89 - 2s - loss: 0.2142 - accuracy: 0.9504 - val_loss: 0.1113 - val_accuracy: 0.9603\n",
            "Epoch 2/10\n",
            "89/89 - 2s - loss: 0.1207 - accuracy: 0.9724 - val_loss: 0.0876 - val_accuracy: 0.9830\n",
            "Epoch 3/10\n",
            "89/89 - 2s - loss: 0.1055 - accuracy: 0.9766 - val_loss: 0.0585 - val_accuracy: 0.9858\n",
            "Epoch 4/10\n",
            "89/89 - 2s - loss: 0.1085 - accuracy: 0.9745 - val_loss: 0.0745 - val_accuracy: 0.9830\n",
            "Epoch 5/10\n",
            "89/89 - 2s - loss: 0.1080 - accuracy: 0.9752 - val_loss: 0.0554 - val_accuracy: 0.9830\n",
            "Epoch 6/10\n",
            "89/89 - 2s - loss: 0.1103 - accuracy: 0.9731 - val_loss: 0.0652 - val_accuracy: 0.9802\n",
            "Epoch 7/10\n",
            "89/89 - 2s - loss: 0.1103 - accuracy: 0.9759 - val_loss: 0.0771 - val_accuracy: 0.9802\n",
            "Epoch 8/10\n",
            "89/89 - 2s - loss: 0.0985 - accuracy: 0.9759 - val_loss: 0.0724 - val_accuracy: 0.9773\n",
            "Epoch 9/10\n",
            "89/89 - 2s - loss: 0.1055 - accuracy: 0.9731 - val_loss: 0.0551 - val_accuracy: 0.9830\n",
            "Epoch 10/10\n",
            "89/89 - 2s - loss: 0.1061 - accuracy: 0.9780 - val_loss: 0.0839 - val_accuracy: 0.9830\n"
          ],
          "name": "stdout"
        }
      ]
    },
    {
      "cell_type": "code",
      "metadata": {
        "colab": {
          "base_uri": "https://localhost:8080/"
        },
        "id": "QwHHHqmaA-ar",
        "outputId": "04cf9beb-d853-4c83-c270-b0449597f460"
      },
      "source": [
        "model_m.evaluate(X_test, y_test, verbose=2)"
      ],
      "execution_count": null,
      "outputs": [
        {
          "output_type": "stream",
          "text": [
            "14/14 - 0s - loss: 0.1228 - accuracy: 0.9864\n"
          ],
          "name": "stdout"
        },
        {
          "output_type": "execute_result",
          "data": {
            "text/plain": [
              "[0.1228310689330101, 0.9863945841789246]"
            ]
          },
          "metadata": {
            "tags": []
          },
          "execution_count": 14
        }
      ]
    },
    {
      "cell_type": "code",
      "metadata": {
        "id": "xYaipMBVBE2J"
      },
      "source": [
        "### GET PREDICTED CLASS ###\n",
        "\n",
        "pred_test = np.argmax(model_m.predict(X_test), axis=1)"
      ],
      "execution_count": null,
      "outputs": []
    },
    {
      "cell_type": "code",
      "metadata": {
        "colab": {
          "base_uri": "https://localhost:8080/"
        },
        "id": "xz9pYOPQBLf4",
        "outputId": "29c736ff-2aca-4f59-9ffe-3e180f3bacba"
      },
      "source": [
        "print(classification_report([diz_reverse_label[np.argmax(label)] for label in y_test], \n",
        "                            [diz_reverse_label[label] for label in pred_test]))"
      ],
      "execution_count": null,
      "outputs": [
        {
          "output_type": "stream",
          "text": [
            "              precision    recall  f1-score   support\n",
            "\n",
            "           3       0.99      0.99      0.99       152\n",
            "          20       0.97      0.99      0.98       135\n",
            "         100       1.00      0.99      0.99       154\n",
            "\n",
            "    accuracy                           0.99       441\n",
            "   macro avg       0.99      0.99      0.99       441\n",
            "weighted avg       0.99      0.99      0.99       441\n",
            "\n"
          ],
          "name": "stdout"
        }
      ]
    },
    {
      "cell_type": "code",
      "metadata": {
        "colab": {
          "base_uri": "https://localhost:8080/",
          "height": 495
        },
        "id": "TJ-l6-nKBNci",
        "outputId": "c0d7f742-43a8-4b79-b4b9-954e47f67c5b"
      },
      "source": [
        "cnf_matrix = confusion_matrix([diz_reverse_label[np.argmax(label)] for label in y_test], \n",
        "                              [diz_reverse_label[label] for label in pred_test])\n",
        "\n",
        "plt.figure(figsize=(7,7))\n",
        "plot_confusion_matrix(cnf_matrix, classes=list(diz_reverse_label.values()))\n",
        "plt.show()"
      ],
      "execution_count": null,
      "outputs": [
        {
          "output_type": "display_data",
          "data": {
            "image/png": "[encoded data removed]",
            "text/plain": [
              "<Figure size 504x504 with 1 Axes>"
            ]
          },
          "metadata": {
            "tags": [],
            "needs_background": "light"
          }
        }
      ]
    },
    {
      "cell_type": "markdown",
      "metadata": {
        "id": "tZVpcwIpBT8q"
      },
      "source": [
        "# Visualization"
      ]
    },
    {
      "cell_type": "code",
      "metadata": {
        "colab": {
          "base_uri": "https://localhost:8080/"
        },
        "id": "oUxq0MVUBQvL",
        "outputId": "40e365fc-ff3e-4d91-d68a-5482f0b32efa"
      },
      "source": [
        "### MAKE A MODEL FOR EMBEDDINGS ###\n",
        "emb_model = Model(inputs=model_m.input, outputs=model_m.get_layer('G_A_P_1D').output)\n",
        "emb_model.summary()"
      ],
      "execution_count": null,
      "outputs": [
        {
          "output_type": "stream",
          "text": [
            "Model: \"functional_1\"\n",
            "_________________________________________________________________\n",
            "Layer (type)                 Output Shape              Param #   \n",
            "=================================================================\n",
            "conv1d_input (InputLayer)    [(None, 60, 4)]           0         \n",
            "_________________________________________________________________\n",
            "conv1d (Conv1D)              (None, 55, 100)           2500      \n",
            "_________________________________________________________________\n",
            "conv1d_1 (Conv1D)            (None, 50, 100)           60100     \n",
            "_________________________________________________________________\n",
            "max_pooling1d (MaxPooling1D) (None, 16, 100)           0         \n",
            "_________________________________________________________________\n",
            "conv1d_2 (Conv1D)            (None, 11, 160)           96160     \n",
            "_________________________________________________________________\n",
            "conv1d_3 (Conv1D)            (None, 6, 160)            153760    \n",
            "_________________________________________________________________\n",
            "G_A_P_1D (GlobalAveragePooli (None, 160)               0         \n",
            "=================================================================\n",
            "Total params: 312,520\n",
            "Trainable params: 312,520\n",
            "Non-trainable params: 0\n",
            "_________________________________________________________________\n"
          ],
          "name": "stdout"
        }
      ]
    },
    {
      "cell_type": "code",
      "metadata": {
        "id": "sLEm1nWkBToO"
      },
      "source": [
        "\n",
        "### EXTRACT EMBEDDINGS ###\n",
        "serie_features = emb_model.predict(X_test)"
      ],
      "execution_count": null,
      "outputs": []
    },
    {
      "cell_type": "code",
      "metadata": {
        "id": "G1pbM2l9Batj"
      },
      "source": [
        "### VISUALIZE EMBEDDINGS ###\n",
        "tsne = TSNE(n_components=2, random_state=42, n_iter=300, perplexity=5)\n",
        "T = tsne.fit_transform(serie_features)"
      ],
      "execution_count": null,
      "outputs": []
    },
    {
      "cell_type": "code",
      "metadata": {
        "id": "wPj714FfBcuE",
        "colab": {
          "base_uri": "https://localhost:8080/",
          "height": 537
        },
        "outputId": "2af54223-7d09-45d2-ee15-a17089d1cf33"
      },
      "source": [
        "plt.figure(figsize=(16,9))\n",
        "colors = {0:'red', 1:'blue', 2:'yellow'}\n",
        "plt.scatter(T.T[0], T.T[1], c=[colors[i] for i in np.argmax(y_test, axis=1)]) \n",
        "plt.show()"
      ],
      "execution_count": null,
      "outputs": [
        {
          "output_type": "display_data",
          "data": {
            "image/png": "[encoded data removed]",
            "text/plain": [
              "<Figure size 1152x648 with 1 Axes>"
            ]
          },
          "metadata": {
            "tags": [],
            "needs_background": "light"
          }
        }
      ]
    },
    {
      "cell_type": "code",
      "metadata": {
        "id": "YSFXFk-2Bexm"
      },
      "source": [
        ""
      ],
      "execution_count": null,
      "outputs": []
    }
  ]
}