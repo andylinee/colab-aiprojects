{
  "nbformat": 4,
  "nbformat_minor": 0,
  "metadata": {
    "colab": {
      "name": "DecisionTree_Iris.ipynb",
      "provenance": [],
      "collapsed_sections": []
    },
    "kernelspec": {
      "name": "python3",
      "display_name": "Python 3"
    }
  },
  "cells": [
    {
      "cell_type": "code",
      "metadata": {
        "colab": {
          "base_uri": "https://localhost:8080/"
        },
        "id": "WZkKaVxNvscR",
        "outputId": "a2ded728-41af-4ae5-bd84-86b4a7c16184"
      },
      "source": [
        "from sklearn.datasets import load_iris\n",
        "from sklearn import tree\n",
        "from sklearn.model_selection import train_test_split\n",
        "from sklearn import metrics\n",
        "\n",
        "# 讀入鳶尾花資料\n",
        "iris = load_iris()\n",
        "iris_X = iris.data\n",
        "iris_y = iris.target\n",
        "\n",
        "# 切分訓練與測試資料\n",
        "train_X, test_X, train_y, test_y = train_test_split(iris_X, iris_y, test_size = 0.3)\n",
        "\n",
        "# 建立分類器\n",
        "clf = tree.DecisionTreeClassifier()\n",
        "iris_clf = clf.fit(train_X, train_y)\n",
        "\n",
        "# 預測\n",
        "test_y_predicted = iris_clf.predict(test_X)\n",
        "\n",
        "# 績效\n",
        "accuracy = metrics.accuracy_score(test_y, test_y_predicted)\n",
        "f1_score = metrics.f1_score(test_y, test_y_predicted, average=\"macro\")\n",
        "precision = metrics.precision_score(test_y, test_y_predicted, average=\"weighted\")\n",
        "print(\"Accuracy: \", accuracy)\n",
        "print(\"F1_Score: \", f1_score)\n",
        "print(\"Precision: \", precision)"
      ],
      "execution_count": null,
      "outputs": [
        {
          "output_type": "stream",
          "text": [
            "Accuracy:  0.9111111111111111\n",
            "F1_Score:  0.9154589371980677\n",
            "Precision:  0.9253333333333333\n"
          ],
          "name": "stdout"
        }
      ]
    },
    {
      "cell_type": "code",
      "metadata": {
        "id": "yZ4Ck1cAvt01"
      },
      "source": [
        ""
      ],
      "execution_count": null,
      "outputs": []
    }
  ]
}